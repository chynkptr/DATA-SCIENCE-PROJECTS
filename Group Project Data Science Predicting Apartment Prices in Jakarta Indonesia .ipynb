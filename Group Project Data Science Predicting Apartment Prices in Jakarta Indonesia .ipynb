{
 "cells": [
  {
   "cell_type": "code",
   "execution_count": 1,
   "id": "3ab75c11",
   "metadata": {},
   "outputs": [],
   "source": [
    "import pandas as pd # pandas - used for data cleaning\n",
    "import numpy as np # numpy - used for fast matrix algebra calculations\n",
    "import matplotlib.pyplot as plt # matplotlib - used for graphs\n",
    "import seaborn as sns #seaborn - used to visualize and explore data quickly and effectively"
   ]
  },
  {
   "cell_type": "markdown",
   "id": "75e7eb62",
   "metadata": {},
   "source": [
    "# Define Excel's Format to \"data\""
   ]
  },
  {
   "cell_type": "markdown",
   "id": "8a37d755",
   "metadata": {},
   "source": [
    "Defining Excel's format consist of 500 sample apartments in Jakarta Indonesia using pandas'library."
   ]
  },
  {
   "cell_type": "markdown",
   "id": "0b9ff809",
   "metadata": {},
   "source": [
    "-pd : The pandas library is well-known data manipulation in Phyton."
   ]
  },
  {
   "cell_type": "markdown",
   "id": "a9736873",
   "metadata": {},
   "source": [
    "-pd.read_excel() : The function is able to store the data from an Excel file and create Pandas DataFrame "
   ]
  },
  {
   "cell_type": "code",
   "execution_count": 2,
   "id": "bc015c53",
   "metadata": {},
   "outputs": [],
   "source": [
    "data = pd.read_excel('SamplesJakartaApartmentsSamples.xlsx')"
   ]
  },
  {
   "cell_type": "markdown",
   "id": "0f17ee06",
   "metadata": {},
   "source": [
    "# The 503 Apartment Samples in Jakarta, Indonesia "
   ]
  },
  {
   "cell_type": "code",
   "execution_count": 3,
   "id": "4aff7095",
   "metadata": {},
   "outputs": [
    {
     "data": {
      "text/html": [
       "<div>\n",
       "<style scoped>\n",
       "    .dataframe tbody tr th:only-of-type {\n",
       "        vertical-align: middle;\n",
       "    }\n",
       "\n",
       "    .dataframe tbody tr th {\n",
       "        vertical-align: top;\n",
       "    }\n",
       "\n",
       "    .dataframe thead th {\n",
       "        text-align: right;\n",
       "    }\n",
       "</style>\n",
       "<table border=\"1\" class=\"dataframe\">\n",
       "  <thead>\n",
       "    <tr style=\"text-align: right;\">\n",
       "      <th></th>\n",
       "      <th>BedroomNo</th>\n",
       "      <th>BathroomNo</th>\n",
       "      <th>Size in Square Meters</th>\n",
       "      <th>Balcony</th>\n",
       "      <th>Year Built</th>\n",
       "      <th>Actual Price</th>\n",
       "      <th>Floor</th>\n",
       "    </tr>\n",
       "  </thead>\n",
       "  <tbody>\n",
       "    <tr>\n",
       "      <th>0</th>\n",
       "      <td>1</td>\n",
       "      <td>1</td>\n",
       "      <td>21</td>\n",
       "      <td>0</td>\n",
       "      <td>2015</td>\n",
       "      <td>37744420</td>\n",
       "      <td>23</td>\n",
       "    </tr>\n",
       "    <tr>\n",
       "      <th>1</th>\n",
       "      <td>2</td>\n",
       "      <td>1</td>\n",
       "      <td>35</td>\n",
       "      <td>1</td>\n",
       "      <td>2019</td>\n",
       "      <td>81896000</td>\n",
       "      <td>12</td>\n",
       "    </tr>\n",
       "    <tr>\n",
       "      <th>2</th>\n",
       "      <td>1</td>\n",
       "      <td>3</td>\n",
       "      <td>33</td>\n",
       "      <td>1</td>\n",
       "      <td>2017</td>\n",
       "      <td>35900000</td>\n",
       "      <td>21</td>\n",
       "    </tr>\n",
       "    <tr>\n",
       "      <th>3</th>\n",
       "      <td>3</td>\n",
       "      <td>2</td>\n",
       "      <td>105</td>\n",
       "      <td>3</td>\n",
       "      <td>2018</td>\n",
       "      <td>129223970</td>\n",
       "      <td>21</td>\n",
       "    </tr>\n",
       "    <tr>\n",
       "      <th>4</th>\n",
       "      <td>2</td>\n",
       "      <td>2</td>\n",
       "      <td>86</td>\n",
       "      <td>1</td>\n",
       "      <td>2017</td>\n",
       "      <td>119794780</td>\n",
       "      <td>23</td>\n",
       "    </tr>\n",
       "    <tr>\n",
       "      <th>...</th>\n",
       "      <td>...</td>\n",
       "      <td>...</td>\n",
       "      <td>...</td>\n",
       "      <td>...</td>\n",
       "      <td>...</td>\n",
       "      <td>...</td>\n",
       "      <td>...</td>\n",
       "    </tr>\n",
       "    <tr>\n",
       "      <th>499</th>\n",
       "      <td>3</td>\n",
       "      <td>2</td>\n",
       "      <td>135</td>\n",
       "      <td>2</td>\n",
       "      <td>2018</td>\n",
       "      <td>4000000000</td>\n",
       "      <td>24</td>\n",
       "    </tr>\n",
       "    <tr>\n",
       "      <th>500</th>\n",
       "      <td>2</td>\n",
       "      <td>2</td>\n",
       "      <td>170</td>\n",
       "      <td>1</td>\n",
       "      <td>2015</td>\n",
       "      <td>5800000000</td>\n",
       "      <td>54</td>\n",
       "    </tr>\n",
       "    <tr>\n",
       "      <th>501</th>\n",
       "      <td>2</td>\n",
       "      <td>2</td>\n",
       "      <td>178</td>\n",
       "      <td>2</td>\n",
       "      <td>2019</td>\n",
       "      <td>6000000000</td>\n",
       "      <td>24</td>\n",
       "    </tr>\n",
       "    <tr>\n",
       "      <th>502</th>\n",
       "      <td>2</td>\n",
       "      <td>2</td>\n",
       "      <td>76</td>\n",
       "      <td>1</td>\n",
       "      <td>2012</td>\n",
       "      <td>2800000000</td>\n",
       "      <td>54</td>\n",
       "    </tr>\n",
       "    <tr>\n",
       "      <th>503</th>\n",
       "      <td>2</td>\n",
       "      <td>1</td>\n",
       "      <td>35</td>\n",
       "      <td>1</td>\n",
       "      <td>2022</td>\n",
       "      <td>458000000</td>\n",
       "      <td>7</td>\n",
       "    </tr>\n",
       "  </tbody>\n",
       "</table>\n",
       "<p>504 rows × 7 columns</p>\n",
       "</div>"
      ],
      "text/plain": [
       "     BedroomNo  BathroomNo  Size in Square Meters  Balcony Year Built  \\\n",
       "0            1           1                     21        0       2015   \n",
       "1            2           1                     35        1       2019   \n",
       "2            1           3                     33        1       2017   \n",
       "3            3           2                    105        3       2018   \n",
       "4            2           2                     86        1       2017   \n",
       "..         ...         ...                    ...      ...        ...   \n",
       "499          3           2                    135        2       2018   \n",
       "500          2           2                    170        1       2015   \n",
       "501          2           2                    178        2       2019   \n",
       "502          2           2                     76        1       2012   \n",
       "503          2           1                     35        1       2022   \n",
       "\n",
       "     Actual Price  Floor  \n",
       "0        37744420     23  \n",
       "1        81896000     12  \n",
       "2        35900000     21  \n",
       "3       129223970     21  \n",
       "4       119794780     23  \n",
       "..            ...    ...  \n",
       "499    4000000000     24  \n",
       "500    5800000000     54  \n",
       "501    6000000000     24  \n",
       "502    2800000000     54  \n",
       "503     458000000      7  \n",
       "\n",
       "[504 rows x 7 columns]"
      ]
     },
     "execution_count": 3,
     "metadata": {},
     "output_type": "execute_result"
    }
   ],
   "source": [
    "data"
   ]
  },
  {
   "cell_type": "markdown",
   "id": "7becbcbb",
   "metadata": {},
   "source": [
    "Dependent Variable : Actual Price \n",
    "\n",
    "Independent Variables : BedroomNo, BathroomNo, Size in Square Meters, Balcony, Year Built, Floor "
   ]
  },
  {
   "cell_type": "markdown",
   "id": "91563a3e",
   "metadata": {},
   "source": [
    "# Perform Exploratory Data Analysis"
   ]
  },
  {
   "cell_type": "markdown",
   "id": "c2363cf4",
   "metadata": {},
   "source": [
    "# What are the first top five rows on the table?"
   ]
  },
  {
   "cell_type": "markdown",
   "id": "1be3c0df",
   "metadata": {},
   "source": [
    "The \".head()\" to show first top five on this table."
   ]
  },
  {
   "cell_type": "code",
   "execution_count": 4,
   "id": "0266dd59",
   "metadata": {
    "scrolled": true
   },
   "outputs": [
    {
     "data": {
      "text/html": [
       "<div>\n",
       "<style scoped>\n",
       "    .dataframe tbody tr th:only-of-type {\n",
       "        vertical-align: middle;\n",
       "    }\n",
       "\n",
       "    .dataframe tbody tr th {\n",
       "        vertical-align: top;\n",
       "    }\n",
       "\n",
       "    .dataframe thead th {\n",
       "        text-align: right;\n",
       "    }\n",
       "</style>\n",
       "<table border=\"1\" class=\"dataframe\">\n",
       "  <thead>\n",
       "    <tr style=\"text-align: right;\">\n",
       "      <th></th>\n",
       "      <th>BedroomNo</th>\n",
       "      <th>BathroomNo</th>\n",
       "      <th>Size in Square Meters</th>\n",
       "      <th>Balcony</th>\n",
       "      <th>Year Built</th>\n",
       "      <th>Actual Price</th>\n",
       "      <th>Floor</th>\n",
       "    </tr>\n",
       "  </thead>\n",
       "  <tbody>\n",
       "    <tr>\n",
       "      <th>0</th>\n",
       "      <td>1</td>\n",
       "      <td>1</td>\n",
       "      <td>21</td>\n",
       "      <td>0</td>\n",
       "      <td>2015</td>\n",
       "      <td>37744420</td>\n",
       "      <td>23</td>\n",
       "    </tr>\n",
       "    <tr>\n",
       "      <th>1</th>\n",
       "      <td>2</td>\n",
       "      <td>1</td>\n",
       "      <td>35</td>\n",
       "      <td>1</td>\n",
       "      <td>2019</td>\n",
       "      <td>81896000</td>\n",
       "      <td>12</td>\n",
       "    </tr>\n",
       "    <tr>\n",
       "      <th>2</th>\n",
       "      <td>1</td>\n",
       "      <td>3</td>\n",
       "      <td>33</td>\n",
       "      <td>1</td>\n",
       "      <td>2017</td>\n",
       "      <td>35900000</td>\n",
       "      <td>21</td>\n",
       "    </tr>\n",
       "    <tr>\n",
       "      <th>3</th>\n",
       "      <td>3</td>\n",
       "      <td>2</td>\n",
       "      <td>105</td>\n",
       "      <td>3</td>\n",
       "      <td>2018</td>\n",
       "      <td>129223970</td>\n",
       "      <td>21</td>\n",
       "    </tr>\n",
       "    <tr>\n",
       "      <th>4</th>\n",
       "      <td>2</td>\n",
       "      <td>2</td>\n",
       "      <td>86</td>\n",
       "      <td>1</td>\n",
       "      <td>2017</td>\n",
       "      <td>119794780</td>\n",
       "      <td>23</td>\n",
       "    </tr>\n",
       "  </tbody>\n",
       "</table>\n",
       "</div>"
      ],
      "text/plain": [
       "   BedroomNo  BathroomNo  Size in Square Meters  Balcony Year Built  \\\n",
       "0          1           1                     21        0       2015   \n",
       "1          2           1                     35        1       2019   \n",
       "2          1           3                     33        1       2017   \n",
       "3          3           2                    105        3       2018   \n",
       "4          2           2                     86        1       2017   \n",
       "\n",
       "   Actual Price  Floor  \n",
       "0      37744420     23  \n",
       "1      81896000     12  \n",
       "2      35900000     21  \n",
       "3     129223970     21  \n",
       "4     119794780     23  "
      ]
     },
     "execution_count": 4,
     "metadata": {},
     "output_type": "execute_result"
    }
   ],
   "source": [
    "data.head() # head returns the Top 5 rows"
   ]
  },
  {
   "cell_type": "markdown",
   "id": "4ce0314f",
   "metadata": {},
   "source": [
    "# How about the first last rows?"
   ]
  },
  {
   "cell_type": "markdown",
   "id": "a4c75505",
   "metadata": {},
   "source": [
    "While, \".tail() is use to present last five rows on this table."
   ]
  },
  {
   "cell_type": "code",
   "execution_count": 5,
   "id": "5c3342c5",
   "metadata": {},
   "outputs": [
    {
     "data": {
      "text/html": [
       "<div>\n",
       "<style scoped>\n",
       "    .dataframe tbody tr th:only-of-type {\n",
       "        vertical-align: middle;\n",
       "    }\n",
       "\n",
       "    .dataframe tbody tr th {\n",
       "        vertical-align: top;\n",
       "    }\n",
       "\n",
       "    .dataframe thead th {\n",
       "        text-align: right;\n",
       "    }\n",
       "</style>\n",
       "<table border=\"1\" class=\"dataframe\">\n",
       "  <thead>\n",
       "    <tr style=\"text-align: right;\">\n",
       "      <th></th>\n",
       "      <th>BedroomNo</th>\n",
       "      <th>BathroomNo</th>\n",
       "      <th>Size in Square Meters</th>\n",
       "      <th>Balcony</th>\n",
       "      <th>Year Built</th>\n",
       "      <th>Actual Price</th>\n",
       "      <th>Floor</th>\n",
       "    </tr>\n",
       "  </thead>\n",
       "  <tbody>\n",
       "    <tr>\n",
       "      <th>499</th>\n",
       "      <td>3</td>\n",
       "      <td>2</td>\n",
       "      <td>135</td>\n",
       "      <td>2</td>\n",
       "      <td>2018</td>\n",
       "      <td>4000000000</td>\n",
       "      <td>24</td>\n",
       "    </tr>\n",
       "    <tr>\n",
       "      <th>500</th>\n",
       "      <td>2</td>\n",
       "      <td>2</td>\n",
       "      <td>170</td>\n",
       "      <td>1</td>\n",
       "      <td>2015</td>\n",
       "      <td>5800000000</td>\n",
       "      <td>54</td>\n",
       "    </tr>\n",
       "    <tr>\n",
       "      <th>501</th>\n",
       "      <td>2</td>\n",
       "      <td>2</td>\n",
       "      <td>178</td>\n",
       "      <td>2</td>\n",
       "      <td>2019</td>\n",
       "      <td>6000000000</td>\n",
       "      <td>24</td>\n",
       "    </tr>\n",
       "    <tr>\n",
       "      <th>502</th>\n",
       "      <td>2</td>\n",
       "      <td>2</td>\n",
       "      <td>76</td>\n",
       "      <td>1</td>\n",
       "      <td>2012</td>\n",
       "      <td>2800000000</td>\n",
       "      <td>54</td>\n",
       "    </tr>\n",
       "    <tr>\n",
       "      <th>503</th>\n",
       "      <td>2</td>\n",
       "      <td>1</td>\n",
       "      <td>35</td>\n",
       "      <td>1</td>\n",
       "      <td>2022</td>\n",
       "      <td>458000000</td>\n",
       "      <td>7</td>\n",
       "    </tr>\n",
       "  </tbody>\n",
       "</table>\n",
       "</div>"
      ],
      "text/plain": [
       "     BedroomNo  BathroomNo  Size in Square Meters  Balcony Year Built  \\\n",
       "499          3           2                    135        2       2018   \n",
       "500          2           2                    170        1       2015   \n",
       "501          2           2                    178        2       2019   \n",
       "502          2           2                     76        1       2012   \n",
       "503          2           1                     35        1       2022   \n",
       "\n",
       "     Actual Price  Floor  \n",
       "499    4000000000     24  \n",
       "500    5800000000     54  \n",
       "501    6000000000     24  \n",
       "502    2800000000     54  \n",
       "503     458000000      7  "
      ]
     },
     "execution_count": 5,
     "metadata": {},
     "output_type": "execute_result"
    }
   ],
   "source": [
    "data.tail() # last five rows"
   ]
  },
  {
   "cell_type": "markdown",
   "id": "88f1176b",
   "metadata": {},
   "source": [
    "# Data Information"
   ]
  },
  {
   "cell_type": "markdown",
   "id": "e1140382",
   "metadata": {},
   "source": [
    "The `data.info()` command provides a concise summary of the dataset's structure and information. The output includes:"
   ]
  },
  {
   "cell_type": "markdown",
   "id": "ec008185",
   "metadata": {},
   "source": [
    "- The total number of entries (rows) in the dataset.\n",
    "- The number of columns and their names.\n",
    "- The count of non-null values in each column.\n",
    "- The data type of each column (e.g., int64, float64, object).\n",
    "- Memory usage information."
   ]
  },
  {
   "cell_type": "code",
   "execution_count": 6,
   "id": "7b28bdf6",
   "metadata": {
    "scrolled": true
   },
   "outputs": [
    {
     "name": "stdout",
     "output_type": "stream",
     "text": [
      "<class 'pandas.core.frame.DataFrame'>\n",
      "RangeIndex: 504 entries, 0 to 503\n",
      "Data columns (total 7 columns):\n",
      " #   Column                 Non-Null Count  Dtype \n",
      "---  ------                 --------------  ----- \n",
      " 0   BedroomNo              504 non-null    int64 \n",
      " 1   BathroomNo             504 non-null    int64 \n",
      " 2   Size in Square Meters  504 non-null    int64 \n",
      " 3   Balcony                504 non-null    int64 \n",
      " 4   Year Built             504 non-null    object\n",
      " 5   Actual Price           504 non-null    int64 \n",
      " 6   Floor                  504 non-null    int64 \n",
      "dtypes: int64(6), object(1)\n",
      "memory usage: 27.7+ KB\n"
     ]
    }
   ],
   "source": [
    "data.info()"
   ]
  },
  {
   "cell_type": "markdown",
   "id": "6448b43d",
   "metadata": {},
   "source": [
    "# How many rows and columns? "
   ]
  },
  {
   "cell_type": "markdown",
   "id": "75978a5a",
   "metadata": {},
   "source": [
    "The .shape function is presenting the number of rows and columns (504 rows and 7 columns)."
   ]
  },
  {
   "cell_type": "code",
   "execution_count": 7,
   "id": "a651d176",
   "metadata": {},
   "outputs": [
    {
     "data": {
      "text/plain": [
       "(504, 7)"
      ]
     },
     "execution_count": 7,
     "metadata": {},
     "output_type": "execute_result"
    }
   ],
   "source": [
    "data.shape"
   ]
  },
  {
   "cell_type": "markdown",
   "id": "5bcaaa27",
   "metadata": {},
   "source": [
    "# The viewers want to know the average of the data, the affordable price, etc."
   ]
  },
  {
   "cell_type": "markdown",
   "id": "ecb9f5fd",
   "metadata": {},
   "source": [
    "The .describe() is showing count, mean, std,min, max, and using 75%-50% split."
   ]
  },
  {
   "cell_type": "code",
   "execution_count": 8,
   "id": "4164952b",
   "metadata": {},
   "outputs": [
    {
     "data": {
      "text/html": [
       "<div>\n",
       "<style scoped>\n",
       "    .dataframe tbody tr th:only-of-type {\n",
       "        vertical-align: middle;\n",
       "    }\n",
       "\n",
       "    .dataframe tbody tr th {\n",
       "        vertical-align: top;\n",
       "    }\n",
       "\n",
       "    .dataframe thead th {\n",
       "        text-align: right;\n",
       "    }\n",
       "</style>\n",
       "<table border=\"1\" class=\"dataframe\">\n",
       "  <thead>\n",
       "    <tr style=\"text-align: right;\">\n",
       "      <th></th>\n",
       "      <th>BedroomNo</th>\n",
       "      <th>BathroomNo</th>\n",
       "      <th>Size in Square Meters</th>\n",
       "      <th>Balcony</th>\n",
       "      <th>Actual Price</th>\n",
       "      <th>Floor</th>\n",
       "    </tr>\n",
       "  </thead>\n",
       "  <tbody>\n",
       "    <tr>\n",
       "      <th>count</th>\n",
       "      <td>504.000000</td>\n",
       "      <td>504.000000</td>\n",
       "      <td>504.000000</td>\n",
       "      <td>504.000000</td>\n",
       "      <td>5.040000e+02</td>\n",
       "      <td>504.000000</td>\n",
       "    </tr>\n",
       "    <tr>\n",
       "      <th>mean</th>\n",
       "      <td>2.027778</td>\n",
       "      <td>1.519841</td>\n",
       "      <td>87.829365</td>\n",
       "      <td>1.136905</td>\n",
       "      <td>3.598055e+09</td>\n",
       "      <td>28.416667</td>\n",
       "    </tr>\n",
       "    <tr>\n",
       "      <th>std</th>\n",
       "      <td>0.840821</td>\n",
       "      <td>0.880314</td>\n",
       "      <td>103.141638</td>\n",
       "      <td>0.982505</td>\n",
       "      <td>2.201624e+10</td>\n",
       "      <td>12.045845</td>\n",
       "    </tr>\n",
       "    <tr>\n",
       "      <th>min</th>\n",
       "      <td>1.000000</td>\n",
       "      <td>1.000000</td>\n",
       "      <td>12.000000</td>\n",
       "      <td>0.000000</td>\n",
       "      <td>3.300000e+06</td>\n",
       "      <td>2.000000</td>\n",
       "    </tr>\n",
       "    <tr>\n",
       "      <th>25%</th>\n",
       "      <td>1.000000</td>\n",
       "      <td>1.000000</td>\n",
       "      <td>35.750000</td>\n",
       "      <td>1.000000</td>\n",
       "      <td>5.000000e+07</td>\n",
       "      <td>21.000000</td>\n",
       "    </tr>\n",
       "    <tr>\n",
       "      <th>50%</th>\n",
       "      <td>2.000000</td>\n",
       "      <td>1.000000</td>\n",
       "      <td>50.500000</td>\n",
       "      <td>1.000000</td>\n",
       "      <td>4.250000e+08</td>\n",
       "      <td>23.000000</td>\n",
       "    </tr>\n",
       "    <tr>\n",
       "      <th>75%</th>\n",
       "      <td>2.000000</td>\n",
       "      <td>2.000000</td>\n",
       "      <td>102.000000</td>\n",
       "      <td>1.000000</td>\n",
       "      <td>2.550000e+09</td>\n",
       "      <td>38.000000</td>\n",
       "    </tr>\n",
       "    <tr>\n",
       "      <th>max</th>\n",
       "      <td>6.000000</td>\n",
       "      <td>8.000000</td>\n",
       "      <td>880.000000</td>\n",
       "      <td>5.000000</td>\n",
       "      <td>4.750000e+11</td>\n",
       "      <td>54.000000</td>\n",
       "    </tr>\n",
       "  </tbody>\n",
       "</table>\n",
       "</div>"
      ],
      "text/plain": [
       "        BedroomNo  BathroomNo  Size in Square Meters     Balcony  \\\n",
       "count  504.000000  504.000000             504.000000  504.000000   \n",
       "mean     2.027778    1.519841              87.829365    1.136905   \n",
       "std      0.840821    0.880314             103.141638    0.982505   \n",
       "min      1.000000    1.000000              12.000000    0.000000   \n",
       "25%      1.000000    1.000000              35.750000    1.000000   \n",
       "50%      2.000000    1.000000              50.500000    1.000000   \n",
       "75%      2.000000    2.000000             102.000000    1.000000   \n",
       "max      6.000000    8.000000             880.000000    5.000000   \n",
       "\n",
       "       Actual Price       Floor  \n",
       "count  5.040000e+02  504.000000  \n",
       "mean   3.598055e+09   28.416667  \n",
       "std    2.201624e+10   12.045845  \n",
       "min    3.300000e+06    2.000000  \n",
       "25%    5.000000e+07   21.000000  \n",
       "50%    4.250000e+08   23.000000  \n",
       "75%    2.550000e+09   38.000000  \n",
       "max    4.750000e+11   54.000000  "
      ]
     },
     "execution_count": 8,
     "metadata": {},
     "output_type": "execute_result"
    }
   ],
   "source": [
    "data.describe() "
   ]
  },
  {
   "cell_type": "markdown",
   "id": "c311ba61",
   "metadata": {},
   "source": [
    "# What are the columns?"
   ]
  },
  {
   "cell_type": "markdown",
   "id": "9ee85a1f",
   "metadata": {},
   "source": [
    ".columns is presenting the columns only."
   ]
  },
  {
   "cell_type": "code",
   "execution_count": 9,
   "id": "176b7892",
   "metadata": {},
   "outputs": [
    {
     "data": {
      "text/plain": [
       "Index(['BedroomNo', 'BathroomNo', 'Size in Square Meters', 'Balcony',\n",
       "       'Year Built', 'Actual Price', 'Floor'],\n",
       "      dtype='object')"
      ]
     },
     "execution_count": 9,
     "metadata": {},
     "output_type": "execute_result"
    }
   ],
   "source": [
    "data.columns #Just presenting 6 columns "
   ]
  },
  {
   "cell_type": "markdown",
   "id": "20cfdab5",
   "metadata": {},
   "source": [
    "# DataFrame"
   ]
  },
  {
   "cell_type": "markdown",
   "id": "18b7915b",
   "metadata": {},
   "source": [
    "To create a Pandas DataFrame, the `pd.DataFrame()` constructor is used. The `data` argument can be a variety of data structures, such as dictionaries, lists, or other pandas structures."
   ]
  },
  {
   "cell_type": "code",
   "execution_count": 10,
   "id": "0636f741",
   "metadata": {},
   "outputs": [],
   "source": [
    "df = pd.DataFrame(data) # Now lets put the data in a data frame"
   ]
  },
  {
   "cell_type": "code",
   "execution_count": 11,
   "id": "0deb466b",
   "metadata": {},
   "outputs": [
    {
     "data": {
      "text/html": [
       "<div>\n",
       "<style scoped>\n",
       "    .dataframe tbody tr th:only-of-type {\n",
       "        vertical-align: middle;\n",
       "    }\n",
       "\n",
       "    .dataframe tbody tr th {\n",
       "        vertical-align: top;\n",
       "    }\n",
       "\n",
       "    .dataframe thead th {\n",
       "        text-align: right;\n",
       "    }\n",
       "</style>\n",
       "<table border=\"1\" class=\"dataframe\">\n",
       "  <thead>\n",
       "    <tr style=\"text-align: right;\">\n",
       "      <th></th>\n",
       "      <th>BedroomNo</th>\n",
       "      <th>BathroomNo</th>\n",
       "      <th>Size in Square Meters</th>\n",
       "      <th>Balcony</th>\n",
       "      <th>Year Built</th>\n",
       "      <th>Actual Price</th>\n",
       "      <th>Floor</th>\n",
       "    </tr>\n",
       "  </thead>\n",
       "  <tbody>\n",
       "    <tr>\n",
       "      <th>0</th>\n",
       "      <td>1</td>\n",
       "      <td>1</td>\n",
       "      <td>21</td>\n",
       "      <td>0</td>\n",
       "      <td>2015</td>\n",
       "      <td>37744420</td>\n",
       "      <td>23</td>\n",
       "    </tr>\n",
       "    <tr>\n",
       "      <th>1</th>\n",
       "      <td>2</td>\n",
       "      <td>1</td>\n",
       "      <td>35</td>\n",
       "      <td>1</td>\n",
       "      <td>2019</td>\n",
       "      <td>81896000</td>\n",
       "      <td>12</td>\n",
       "    </tr>\n",
       "    <tr>\n",
       "      <th>2</th>\n",
       "      <td>1</td>\n",
       "      <td>3</td>\n",
       "      <td>33</td>\n",
       "      <td>1</td>\n",
       "      <td>2017</td>\n",
       "      <td>35900000</td>\n",
       "      <td>21</td>\n",
       "    </tr>\n",
       "    <tr>\n",
       "      <th>3</th>\n",
       "      <td>3</td>\n",
       "      <td>2</td>\n",
       "      <td>105</td>\n",
       "      <td>3</td>\n",
       "      <td>2018</td>\n",
       "      <td>129223970</td>\n",
       "      <td>21</td>\n",
       "    </tr>\n",
       "    <tr>\n",
       "      <th>4</th>\n",
       "      <td>2</td>\n",
       "      <td>2</td>\n",
       "      <td>86</td>\n",
       "      <td>1</td>\n",
       "      <td>2017</td>\n",
       "      <td>119794780</td>\n",
       "      <td>23</td>\n",
       "    </tr>\n",
       "    <tr>\n",
       "      <th>...</th>\n",
       "      <td>...</td>\n",
       "      <td>...</td>\n",
       "      <td>...</td>\n",
       "      <td>...</td>\n",
       "      <td>...</td>\n",
       "      <td>...</td>\n",
       "      <td>...</td>\n",
       "    </tr>\n",
       "    <tr>\n",
       "      <th>499</th>\n",
       "      <td>3</td>\n",
       "      <td>2</td>\n",
       "      <td>135</td>\n",
       "      <td>2</td>\n",
       "      <td>2018</td>\n",
       "      <td>4000000000</td>\n",
       "      <td>24</td>\n",
       "    </tr>\n",
       "    <tr>\n",
       "      <th>500</th>\n",
       "      <td>2</td>\n",
       "      <td>2</td>\n",
       "      <td>170</td>\n",
       "      <td>1</td>\n",
       "      <td>2015</td>\n",
       "      <td>5800000000</td>\n",
       "      <td>54</td>\n",
       "    </tr>\n",
       "    <tr>\n",
       "      <th>501</th>\n",
       "      <td>2</td>\n",
       "      <td>2</td>\n",
       "      <td>178</td>\n",
       "      <td>2</td>\n",
       "      <td>2019</td>\n",
       "      <td>6000000000</td>\n",
       "      <td>24</td>\n",
       "    </tr>\n",
       "    <tr>\n",
       "      <th>502</th>\n",
       "      <td>2</td>\n",
       "      <td>2</td>\n",
       "      <td>76</td>\n",
       "      <td>1</td>\n",
       "      <td>2012</td>\n",
       "      <td>2800000000</td>\n",
       "      <td>54</td>\n",
       "    </tr>\n",
       "    <tr>\n",
       "      <th>503</th>\n",
       "      <td>2</td>\n",
       "      <td>1</td>\n",
       "      <td>35</td>\n",
       "      <td>1</td>\n",
       "      <td>2022</td>\n",
       "      <td>458000000</td>\n",
       "      <td>7</td>\n",
       "    </tr>\n",
       "  </tbody>\n",
       "</table>\n",
       "<p>504 rows × 7 columns</p>\n",
       "</div>"
      ],
      "text/plain": [
       "     BedroomNo  BathroomNo  Size in Square Meters  Balcony Year Built  \\\n",
       "0            1           1                     21        0       2015   \n",
       "1            2           1                     35        1       2019   \n",
       "2            1           3                     33        1       2017   \n",
       "3            3           2                    105        3       2018   \n",
       "4            2           2                     86        1       2017   \n",
       "..         ...         ...                    ...      ...        ...   \n",
       "499          3           2                    135        2       2018   \n",
       "500          2           2                    170        1       2015   \n",
       "501          2           2                    178        2       2019   \n",
       "502          2           2                     76        1       2012   \n",
       "503          2           1                     35        1       2022   \n",
       "\n",
       "     Actual Price  Floor  \n",
       "0        37744420     23  \n",
       "1        81896000     12  \n",
       "2        35900000     21  \n",
       "3       129223970     21  \n",
       "4       119794780     23  \n",
       "..            ...    ...  \n",
       "499    4000000000     24  \n",
       "500    5800000000     54  \n",
       "501    6000000000     24  \n",
       "502    2800000000     54  \n",
       "503     458000000      7  \n",
       "\n",
       "[504 rows x 7 columns]"
      ]
     },
     "execution_count": 11,
     "metadata": {},
     "output_type": "execute_result"
    }
   ],
   "source": [
    "df"
   ]
  },
  {
   "cell_type": "markdown",
   "id": "6b01789b",
   "metadata": {},
   "source": [
    "# Figure Out The Minimum Data of Each Column"
   ]
  },
  {
   "cell_type": "code",
   "execution_count": 12,
   "id": "3baf9cc7",
   "metadata": {},
   "outputs": [
    {
     "name": "stderr",
     "output_type": "stream",
     "text": [
      "C:\\Users\\pc\\Documents\\Computer Programming\\Lib\\site-packages\\numpy\\core\\fromnumeric.py:84: FutureWarning: In a future version, DataFrame.min(axis=None) will return a scalar min over the entire DataFrame. To retain the old behavior, use 'frame.min(axis=0)' or just 'frame.min()'\n",
      "  return reduction(axis=axis, out=out, **passkwargs)\n",
      "C:\\Users\\pc\\Documents\\Computer Programming\\Lib\\site-packages\\numpy\\core\\fromnumeric.py:84: FutureWarning: The default value of numeric_only in DataFrame.min is deprecated. In a future version, it will default to False. In addition, specifying 'numeric_only=None' is deprecated. Select only valid columns or specify the value of numeric_only to silence this warning.\n",
      "  return reduction(axis=axis, out=out, **passkwargs)\n"
     ]
    },
    {
     "data": {
      "text/plain": [
       "BedroomNo                      1\n",
       "BathroomNo                     1\n",
       "Size in Square Meters         12\n",
       "Balcony                        0\n",
       "Actual Price             3300000\n",
       "Floor                          2\n",
       "dtype: int64"
      ]
     },
     "execution_count": 12,
     "metadata": {},
     "output_type": "execute_result"
    }
   ],
   "source": [
    "np.min(data)"
   ]
  },
  {
   "cell_type": "markdown",
   "id": "cd331fca",
   "metadata": {},
   "source": [
    "# Figure Out The Maximum Datas of Each Column"
   ]
  },
  {
   "cell_type": "markdown",
   "id": "56ba27cb",
   "metadata": {},
   "source": [
    "The warning is about a future change in the behavior of DataFrame.min in NumPy. To retain the old behavior, you should use either frame.min(axis=0) or frame.min(). Additionally, the deprecated parameter numeric_only will default to False in the future, so consider selecting only valid columns or specifying the value of numeric_only to avoid the warning."
   ]
  },
  {
   "cell_type": "code",
   "execution_count": 13,
   "id": "717a0036",
   "metadata": {},
   "outputs": [
    {
     "name": "stderr",
     "output_type": "stream",
     "text": [
      "C:\\Users\\pc\\Documents\\Computer Programming\\Lib\\site-packages\\numpy\\core\\fromnumeric.py:84: FutureWarning: In a future version, DataFrame.max(axis=None) will return a scalar max over the entire DataFrame. To retain the old behavior, use 'frame.max(axis=0)' or just 'frame.max()'\n",
      "  return reduction(axis=axis, out=out, **passkwargs)\n",
      "C:\\Users\\pc\\Documents\\Computer Programming\\Lib\\site-packages\\numpy\\core\\fromnumeric.py:84: FutureWarning: The default value of numeric_only in DataFrame.max is deprecated. In a future version, it will default to False. In addition, specifying 'numeric_only=None' is deprecated. Select only valid columns or specify the value of numeric_only to silence this warning.\n",
      "  return reduction(axis=axis, out=out, **passkwargs)\n"
     ]
    },
    {
     "data": {
      "text/plain": [
       "BedroomNo                           6\n",
       "BathroomNo                          8\n",
       "Size in Square Meters             880\n",
       "Balcony                             5\n",
       "Actual Price             475000000000\n",
       "Floor                              54\n",
       "dtype: int64"
      ]
     },
     "execution_count": 13,
     "metadata": {},
     "output_type": "execute_result"
    }
   ],
   "source": [
    "np.max(data)"
   ]
  },
  {
   "cell_type": "markdown",
   "id": "ca58fe1d",
   "metadata": {},
   "source": [
    "The warning suggests that in a future version of NumPy, DataFrame.max(axis=None) will return a scalar max over the entire DataFrame. To maintain the current behavior, use either frame.max(axis=0) or frame.max(). Also, note that the deprecated parameter numeric_only will default to False in the future, so consider selecting only valid columns or specifying the value of numeric_only to avoid the warning."
   ]
  },
  {
   "cell_type": "markdown",
   "id": "a7aa895c",
   "metadata": {},
   "source": [
    "# The Mean of Datas"
   ]
  },
  {
   "cell_type": "code",
   "execution_count": 15,
   "id": "20b1cf5f",
   "metadata": {},
   "outputs": [
    {
     "name": "stdout",
     "output_type": "stream",
     "text": [
      "Mean for each column:\n",
      " BedroomNo                2.027778e+00\n",
      "BathroomNo               1.519841e+00\n",
      "Size in Square Meters    8.782937e+01\n",
      "Balcony                  1.136905e+00\n",
      "Actual Price             3.598055e+09\n",
      "Floor                    2.841667e+01\n",
      "dtype: float64\n"
     ]
    },
    {
     "name": "stderr",
     "output_type": "stream",
     "text": [
      "C:\\Users\\pc\\AppData\\Local\\Temp\\ipykernel_300\\650947353.py:7: FutureWarning: The default value of numeric_only in DataFrame.mean is deprecated. In a future version, it will default to False. In addition, specifying 'numeric_only=None' is deprecated. Select only valid columns or specify the value of numeric_only to silence this warning.\n",
      "  result_each_column = df.mean(axis=0)\n"
     ]
    }
   ],
   "source": [
    "import pandas as pd\n",
    "\n",
    "# Load the data\n",
    "df = pd.read_excel('SamplesJakartaApartmentsSamples.xlsx')\n",
    "\n",
    "# Calculate the mean for each column\n",
    "result_each_column = df.mean(axis=0)\n",
    "\n",
    "# Print the result\n",
    "print(\"Mean for each column:\\n\", result_each_column)"
   ]
  },
  {
   "cell_type": "markdown",
   "id": "d86b4141",
   "metadata": {},
   "source": [
    "The warning indicates a future change in the default behavior of DataFrame.mean in pandas. To avoid the warning, specify numeric_only as False or explicitly specify valid columns for the mean calculation."
   ]
  },
  {
   "cell_type": "markdown",
   "id": "55055aad",
   "metadata": {},
   "source": [
    "# Standard Deviation of Data "
   ]
  },
  {
   "cell_type": "markdown",
   "id": "59dadf14",
   "metadata": {},
   "source": [
    "Standard Deviation is a measure which shows how much variation from the mean exists"
   ]
  },
  {
   "cell_type": "code",
   "execution_count": 16,
   "id": "b90c6371",
   "metadata": {},
   "outputs": [
    {
     "name": "stdout",
     "output_type": "stream",
     "text": [
      "Standard deviation for all columns:\n",
      " BedroomNo                8.408212e-01\n",
      "BathroomNo               8.803144e-01\n",
      "Size in Square Meters    1.031416e+02\n",
      "Balcony                  9.825046e-01\n",
      "Actual Price             2.201624e+10\n",
      "Floor                    1.204585e+01\n",
      "dtype: float64\n"
     ]
    },
    {
     "name": "stderr",
     "output_type": "stream",
     "text": [
      "C:\\Users\\pc\\AppData\\Local\\Temp\\ipykernel_300\\3455989921.py:7: FutureWarning: The default value of numeric_only in DataFrame.std is deprecated. In a future version, it will default to False. In addition, specifying 'numeric_only=None' is deprecated. Select only valid columns or specify the value of numeric_only to silence this warning.\n",
      "  std_all_columns = df.std(axis=0)\n"
     ]
    }
   ],
   "source": [
    "import pandas as pd\n",
    "\n",
    "# Assuming you've imported your data into a DataFrame called df\n",
    "df = pd.read_excel('SamplesJakartaApartmentsSamples.xlsx')  # Replace 'your_file.xlsx' with your actual file path\n",
    "\n",
    "# Calculate the standard deviation for all columns\n",
    "std_all_columns = df.std(axis=0)\n",
    "\n",
    "# Print the result\n",
    "print(\"Standard deviation for all columns:\\n\", std_all_columns)"
   ]
  },
  {
   "cell_type": "markdown",
   "id": "52fec8df",
   "metadata": {},
   "source": [
    "The warning indicates a future change in the default behavior of DataFrame.std in pandas. To avoid the warning, specify numeric_only as False or explicitly specify valid columns for the standard deviation calculation."
   ]
  },
  {
   "cell_type": "markdown",
   "id": "243d645d",
   "metadata": {},
   "source": [
    "# Dealing with missing datas/outliers"
   ]
  },
  {
   "cell_type": "code",
   "execution_count": 17,
   "id": "05d8b8c7",
   "metadata": {},
   "outputs": [
    {
     "data": {
      "text/plain": [
       "BedroomNo                0\n",
       "BathroomNo               0\n",
       "Size in Square Meters    0\n",
       "Balcony                  0\n",
       "Year Built               0\n",
       "Actual Price             0\n",
       "Floor                    0\n",
       "dtype: int64"
      ]
     },
     "execution_count": 17,
     "metadata": {},
     "output_type": "execute_result"
    }
   ],
   "source": [
    "# we can check is there any null data or not\n",
    "data.isnull().sum()"
   ]
  },
  {
   "cell_type": "markdown",
   "id": "ba6f06d6",
   "metadata": {},
   "source": [
    "# Box Plots For Finding Outliers "
   ]
  },
  {
   "cell_type": "markdown",
   "id": "79901826",
   "metadata": {},
   "source": [
    "Box plots are a useful visualization tool to identify outliers in a dataset. "
   ]
  },
  {
   "cell_type": "code",
   "execution_count": 19,
   "id": "e39e89de",
   "metadata": {
    "scrolled": false
   },
   "outputs": [
    {
     "data": {
      "image/png": "[encoded data removed]",
      "text/plain": [
       "<Figure size 1200x800 with 6 Axes>"
      ]
     },
     "metadata": {},
     "output_type": "display_data"
    }
   ],
   "source": [
    "import matplotlib.pyplot as plt\n",
    "import pandas as pd\n",
    "\n",
    "# Assuming your DataFrame is named df\n",
    "# Replace column names as needed\n",
    "features = ['BedroomNo', 'BathroomNo', 'Size in Square Meters','Balcony', 'Year Built','Floor']\n",
    "df[features].plot(kind='box', subplots=True, layout=(2, 3), sharex=False, sharey=False, figsize=(12, 8))\n",
    "plt.show()\n",
    "#We don't include the 'Actual Price' due to the target variable "
   ]
  },
  {
   "cell_type": "markdown",
   "id": "c651c6ca",
   "metadata": {},
   "source": [
    "We do not include \"Actual Price\" due to target variable."
   ]
  },
  {
   "cell_type": "markdown",
   "id": "e8047b94",
   "metadata": {},
   "source": [
    "# Comparing the 3 Models "
   ]
  },
  {
   "cell_type": "markdown",
   "id": "79559a26",
   "metadata": {},
   "source": [
    "We decided to use both training set and test set. Why?\n",
    "\n",
    "\n",
    "Training Set:\n",
    "- Used to train the machine learning model.\n",
    "- Model learns patterns and relationships in the data.\n",
    "- For SVM, KNN, and Decision Trees, this is where algorithms learn decision boundaries, nearest neighbors, or tree structures.\n",
    "\n",
    "Test Set:\n",
    "- Used to evaluate model performance on new, unseen data.\n",
    "- Provides an unbiased estimate of how well the model generalizes."
   ]
  },
  {
   "cell_type": "markdown",
   "id": "188d42f1",
   "metadata": {},
   "source": [
    "#  Support Vector Machine (SVM)"
   ]
  },
  {
   "cell_type": "code",
   "execution_count": 28,
   "id": "6f5ee307",
   "metadata": {},
   "outputs": [],
   "source": [
    "# Example: Assuming 'features' are columns excluding the target variable\n",
    "x = df[['BedroomNo', 'BathroomNo','Size in Square Meters','Balcony','Floor']]\n",
    "y = df['Actual Price']"
   ]
  },
  {
   "cell_type": "code",
   "execution_count": 99,
   "id": "487d9329",
   "metadata": {},
   "outputs": [],
   "source": [
    "# Split the data into training and testing sets\n",
    "# x_train, x_test: Features for training and testing\n",
    "# y_train, y_test: Corresponding target values for training and testing\n",
    "# test_size=0.2: Allocate 20% of the data for testing, 80% for training\n",
    "# random_state=99: Set a random seed for reproducibility\n",
    "from sklearn.model_selection import train_test_split\n",
    "\n",
    "x_train, x_test, y_train, y_test = train_test_split(x, y, test_size=0.2, random_state=99)"
   ]
  },
  {
   "cell_type": "code",
   "execution_count": 30,
   "id": "612a8847",
   "metadata": {},
   "outputs": [],
   "source": [
    "from sklearn.preprocessing import StandardScaler\n",
    "\n",
    "#To create StandardScaler Object\n",
    "scaler = StandardScaler()\n",
    "x_train_scaled = scaler.fit_transform(x_train) #To fit and transform training set \n",
    "x_test_scaled = scaler.transform(x_test) #Transform test set"
   ]
  },
  {
   "cell_type": "code",
   "execution_count": 56,
   "id": "ff719b1f",
   "metadata": {},
   "outputs": [
    {
     "name": "stdout",
     "output_type": "stream",
     "text": [
      "     Actual Price  Predicted Price (SVM)\n",
      "90       71644760           4.580000e+08\n",
      "97       48300000           4.580000e+08\n",
      "476   45000000000           4.580000e+08\n",
      "340      22475830           4.580001e+08\n",
      "395      45334405           4.580000e+08\n",
      "..            ...                    ...\n",
      "56     3000000000           4.580000e+08\n",
      "444    2250000000           4.580000e+08\n",
      "60     2510000000           4.580000e+08\n",
      "494    1170000000           4.580000e+08\n",
      "107      34800000           4.580000e+08\n",
      "\n",
      "[101 rows x 2 columns]\n"
     ]
    }
   ],
   "source": [
    "# Train the SVM model\n",
    "svm_model.fit(x_train_scaled, y_train)\n",
    "\n",
    "# Predict using SVM\n",
    "y_pred_svm = svm_model.predict(x_test_scaled)\n",
    "\n",
    "# Display the predicted prices using SVM\n",
    "predicted_prices_svm = pd.DataFrame({'Actual Price': y_test, 'Predicted Price (SVM)': y_pred_svm})\n",
    "print(predicted_prices_svm)"
   ]
  },
  {
   "cell_type": "markdown",
   "id": "25d0947e",
   "metadata": {},
   "source": [
    "# KNN (K-Nearest Neigbors) "
   ]
  },
  {
   "cell_type": "code",
   "execution_count": 58,
   "id": "97b32e65",
   "metadata": {},
   "outputs": [],
   "source": [
    "from sklearn.impute import SimpleImputer\n",
    "from sklearn.preprocessing import StandardScaler\n",
    "from sklearn.neighbors import KNeighborsRegressor\n",
    "from sklearn.model_selection import train_test_split\n",
    "import pandas as pd"
   ]
  },
  {
   "cell_type": "code",
   "execution_count": 100,
   "id": "5a5d54aa",
   "metadata": {},
   "outputs": [
    {
     "name": "stdout",
     "output_type": "stream",
     "text": [
      "     Actual Price  Predicted Price (KNN)\n",
      "49   6.600000e+07           7.644225e+08\n",
      "464  1.800000e+09           4.503333e+08\n",
      "30   1.247133e+08           4.231213e+08\n",
      "235  2.200000e+08           9.326667e+08\n",
      "111  2.200000e+07           2.176528e+08\n",
      "..            ...                    ...\n",
      "285  7.500000e+09           2.284239e+09\n",
      "113  3.450000e+07           4.151390e+07\n",
      "404  2.930000e+07           3.888417e+08\n",
      "154  3.500000e+08           2.810965e+08\n",
      "497  4.010000e+09           3.216667e+09\n",
      "\n",
      "[101 rows x 2 columns]\n"
     ]
    }
   ],
   "source": [
    "# Assuming your data is in a DataFrame named df\n",
    "# Handle missing values using mean imputation\n",
    "imputer = SimpleImputer(strategy='mean')\n",
    "df_imputed = pd.DataFrame(imputer.fit_transform(df), columns=df.columns)\n",
    "\n",
    "# Separate features (X) and target variable (y)\n",
    "X = df_imputed.drop('Actual Price', axis=1)\n",
    "y = df_imputed['Actual Price']\n",
    "\n",
    "# Split the data into training and testing sets\n",
    "X_train, X_test, y_train, y_test = train_test_split(X, y,test_size=0.2, random_state=99)\n",
    "\n",
    "# Standardize the features\n",
    "scaler = StandardScaler()\n",
    "X_train_scaled = scaler.fit_transform(X_train)\n",
    "X_test_scaled = scaler.transform(X_test)\n",
    "\n",
    "# Create KNN model\n",
    "k = 3  # You can adjust the value of k as needed\n",
    "knn_model = KNeighborsRegressor(n_neighbors=k)\n",
    "\n",
    "# Train the KNN model\n",
    "knn_model.fit(X_train_scaled, y_train)\n",
    "\n",
    "# Predict using KNN\n",
    "y_pred_knn = knn_model.predict(X_test_scaled)\n",
    "\n",
    "# Display the predicted prices using KNN\n",
    "predicted_prices_knn = pd.DataFrame({'Actual Price': y_test, 'Predicted Price (KNN)': y_pred_knn})\n",
    "print(predicted_prices_knn)"
   ]
  },
  {
   "cell_type": "markdown",
   "id": "f5c4f0cc",
   "metadata": {},
   "source": [
    "# Decision Tree for Regression"
   ]
  },
  {
   "cell_type": "code",
   "execution_count": 121,
   "id": "b30ae016",
   "metadata": {
    "scrolled": true
   },
   "outputs": [
    {
     "name": "stdout",
     "output_type": "stream",
     "text": [
      "     Actual Price  Predicted Price (DT)\n",
      "49       66000000          4.300000e+07\n",
      "464    1800000000          1.200000e+09\n",
      "30      124713310          1.247133e+08\n",
      "235     220000000          1.150000e+09\n",
      "111      22000000          3.495827e+07\n",
      "..            ...                   ...\n",
      "285    7500000000          7.960000e+09\n",
      "113      34500000          2.853761e+07\n",
      "404      29300000          2.863850e+07\n",
      "154     350000000          2.450000e+08\n",
      "497    4010000000          1.170000e+10\n",
      "\n",
      "[101 rows x 2 columns]\n"
     ]
    }
   ],
   "source": [
    "from sklearn.model_selection import train_test_split\n",
    "from sklearn.tree import DecisionTreeRegressor\n",
    "import matplotlib.pyplot as plt\n",
    "\n",
    "# Prepare the data\n",
    "X = df[['BedroomNo', 'BathroomNo','Size in Square Meters','Balcony','Floor']]\n",
    "y = df['Actual Price']\n",
    "\n",
    "# Split the data into training and testing sets\n",
    "X_train, X_test, y_train, y_test = train_test_split(X,y,test_size=0.2,random_state=99)\n",
    "\n",
    "# Create the Decision Tree regression model\n",
    "regressor = DecisionTreeRegressor(random_state=42)\n",
    "regressor.fit(X_train, y_train)\n",
    "\n",
    "predicted_prices_dt = pd.DataFrame({'Actual Price': y_test, 'Predicted Price (DT)': y_pred})\n",
    "print(predicted_prices_dt)"
   ]
  },
  {
   "cell_type": "code",
   "execution_count": 125,
   "id": "5fabbd03",
   "metadata": {},
   "outputs": [
    {
     "data": {
      "text/plain": [
       "array([4.30000000e+07, 2.80000000e+09, 1.24713310e+08, 4.85000000e+08,\n",
       "       3.35000000e+08, 5.88000000e+08, 2.50000000e+09, 2.60000000e+09,\n",
       "       2.00000000e+09, 3.80000000e+08, 1.20000000e+09, 1.60000000e+09,\n",
       "       1.13000000e+08, 1.87000000e+10, 2.10000000e+09, 3.50000000e+09,\n",
       "       2.47000000e+07, 1.85000000e+09, 1.20000000e+09, 8.90000000e+09,\n",
       "       3.65000000e+07, 7.60000000e+08, 3.52837500e+07, 3.80000000e+09,\n",
       "       2.50000000e+08, 2.85376070e+07, 5.88000000e+08, 4.30000000e+07,\n",
       "       2.83662790e+07, 3.48486820e+07, 3.15000000e+09, 2.20000000e+07,\n",
       "       7.00000000e+08, 1.02183690e+08, 5.88000000e+08, 3.77985300e+07,\n",
       "       3.10000000e+07, 1.60000000e+10, 5.85702840e+07, 3.69083300e+07,\n",
       "       7.63639100e+07, 3.65000000e+08, 1.09857490e+08, 4.30000000e+07,\n",
       "       3.12379150e+07, 4.70000000e+09, 6.60000000e+07, 4.85000000e+08,\n",
       "       3.80000000e+09, 3.12379150e+07, 3.48006575e+09, 2.80000000e+09,\n",
       "       5.80616750e+07, 6.70000000e+09, 6.60000000e+07, 4.57652600e+07,\n",
       "       3.00000000e+09, 2.75000000e+08, 3.10000000e+07, 3.90000000e+09,\n",
       "       3.45214440e+07, 3.47500000e+07, 2.60000000e+09, 6.50000000e+09,\n",
       "       7.96000000e+09, 2.20000000e+08, 4.23000000e+09, 3.65000000e+07,\n",
       "       1.87000000e+10, 5.00000000e+07, 2.85000000e+09, 3.00000000e+09,\n",
       "       6.50000000e+09, 3.12379150e+07, 2.10000000e+07, 6.60000000e+07,\n",
       "       2.50000000e+09, 4.50000000e+10, 2.35000000e+08, 3.91692000e+07,\n",
       "       4.23000000e+09, 8.20000000e+08, 2.50000000e+09, 2.50000000e+09,\n",
       "       6.50000000e+08, 3.80000000e+09, 3.10000000e+07, 2.00000000e+07,\n",
       "       5.80000000e+09, 4.08962990e+07, 3.77985300e+07, 7.90000000e+08,\n",
       "       4.70000000e+09, 2.85000000e+09, 2.99000000e+07, 1.22716670e+08,\n",
       "       7.96000000e+09, 1.15000000e+09, 3.95000000e+08, 2.35000000e+08,\n",
       "       6.00000000e+09])"
      ]
     },
     "execution_count": 125,
     "metadata": {},
     "output_type": "execute_result"
    }
   ],
   "source": [
    "# Make predictions on the test set\n",
    "y_pred_dt = regressor.predict(X_test)\n",
    "y_pred_dt"
   ]
  },
  {
   "cell_type": "markdown",
   "id": "b8df38e1",
   "metadata": {},
   "source": [
    "# Cross Validation "
   ]
  },
  {
   "cell_type": "code",
   "execution_count": 130,
   "id": "486c1784",
   "metadata": {},
   "outputs": [],
   "source": [
    "# Cross Validation for 12 folds"
   ]
  },
  {
   "cell_type": "code",
   "execution_count": 118,
   "id": "fef66705",
   "metadata": {
    "scrolled": true
   },
   "outputs": [
    {
     "data": {
      "text/plain": [
       "array([  0.95970199,   0.93254169,   0.94497563, -15.37078313,\n",
       "         0.07971442,   0.86055245,   0.19142477,   0.3894073 ,\n",
       "         0.8596434 ,   0.73260476,   0.31619342,   0.6639659 ])"
      ]
     },
     "execution_count": 118,
     "metadata": {},
     "output_type": "execute_result"
    }
   ],
   "source": [
    "from sklearn.model_selection import cross_val_score\n",
    "cross_val_score(regressor,X_train,y_train,cv=12)"
   ]
  },
  {
   "cell_type": "markdown",
   "id": "38a50f6e",
   "metadata": {},
   "source": [
    "# Comparing The Models: Support Vector Machine (SVM), K-Nearest Neighbor (KNN), and Decision Tree with Mean Squarred Error (MSE)"
   ]
  },
  {
   "cell_type": "markdown",
   "id": "99868d29",
   "metadata": {},
   "source": [
    "    From this algorithm, we able to :\n",
    "    \n",
    "    - Compute the mean squared difference between the actual and predicted values from each model.\n",
    "    - Define the lower MSE indicates better performance."
   ]
  },
  {
   "cell_type": "code",
   "execution_count": 126,
   "id": "b4329a28",
   "metadata": {},
   "outputs": [
    {
     "name": "stdout",
     "output_type": "stream",
     "text": [
      "MSE SVM: 2.295665281560815e+21\n",
      "MSE KNN: 2.2362136586649765e+21\n",
      "MSE DT:2.253732566485446e+21\n"
     ]
    }
   ],
   "source": [
    "from sklearn.metrics import mean_squared_error\n",
    "\n",
    "# y_test stands for 'Actual Price '\n",
    "mse_svm = mean_squared_error(y_test, y_pred_svm) # y_pred_lr: Predicted prices using Linear Regression\n",
    "mse_knn = mean_squared_error(y_test, y_pred_knn) #  y_pred_knn: Predicted prices using KNN\n",
    "mse_dt=mean_squared_error(y_test,y_pred_dt)\n",
    "\n",
    "print(f'MSE SVM: {mse_svm}')\n",
    "print(f'MSE KNN: {mse_knn}')\n",
    "print(f'MSE DT:{mse_dt}')"
   ]
  },
  {
   "cell_type": "markdown",
   "id": "32c1796c",
   "metadata": {},
   "source": [
    "As we can KNN has better performance which is the lowest Mean Squarred Error(MSE), 2.23."
   ]
  },
  {
   "cell_type": "markdown",
   "id": "41cf3063",
   "metadata": {},
   "source": [
    "# Group Members:\n",
    "\n",
    "# Bekzat Akmataliev \n",
    "\n",
    "# Cahyani Karunia Putri \n",
    "\n",
    "# Dilnaz Niiazova"
   ]
  }
 ],
 "metadata": {
  "kernelspec": {
   "display_name": "Python 3 (ipykernel)",
   "language": "python",
   "name": "python3"
  },
  "language_info": {
   "codemirror_mode": {
    "name": "ipython",
    "version": 3
   },
   "file_extension": ".py",
   "mimetype": "text/x-python",
   "name": "python",
   "nbconvert_exporter": "python",
   "pygments_lexer": "ipython3",
   "version": "3.11.4"
  }
 },
 "nbformat": 4,
 "nbformat_minor": 5
}
